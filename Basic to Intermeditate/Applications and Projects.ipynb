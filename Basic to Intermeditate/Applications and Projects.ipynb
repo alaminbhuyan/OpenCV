{
 "cells": [
  {
   "cell_type": "code",
   "execution_count": 1,
   "id": "a394cd79",
   "metadata": {},
   "outputs": [],
   "source": [
    "import cv2\n",
    "import numpy as np\n",
    "import matplotlib.pyplot as plt"
   ]
  },
  {
   "cell_type": "markdown",
   "id": "60c1cb96",
   "metadata": {},
   "source": [
    "## Displaying the coordinates of the points clicked on the image"
   ]
  },
  {
   "cell_type": "markdown",
   "id": "d7530825",
   "metadata": {},
   "source": [
    "OpenCV helps us to control and manage different types of mouse events and gives us the flexibility to operate them. There are many types of mouse events. These events can be displayed by running the following code segment"
   ]
  },
  {
   "cell_type": "code",
   "execution_count": 2,
   "id": "43fc6bf8",
   "metadata": {},
   "outputs": [
    {
     "data": {
      "text/plain": [
       "['EVENT_FLAG_ALTKEY',\n",
       " 'EVENT_FLAG_CTRLKEY',\n",
       " 'EVENT_FLAG_LBUTTON',\n",
       " 'EVENT_FLAG_MBUTTON',\n",
       " 'EVENT_FLAG_RBUTTON',\n",
       " 'EVENT_FLAG_SHIFTKEY',\n",
       " 'EVENT_LBUTTONDBLCLK',\n",
       " 'EVENT_LBUTTONDOWN',\n",
       " 'EVENT_LBUTTONUP',\n",
       " 'EVENT_MBUTTONDBLCLK',\n",
       " 'EVENT_MBUTTONDOWN',\n",
       " 'EVENT_MBUTTONUP',\n",
       " 'EVENT_MOUSEHWHEEL',\n",
       " 'EVENT_MOUSEMOVE',\n",
       " 'EVENT_MOUSEWHEEL',\n",
       " 'EVENT_RBUTTONDBLCLK',\n",
       " 'EVENT_RBUTTONDOWN',\n",
       " 'EVENT_RBUTTONUP']"
      ]
     },
     "execution_count": 2,
     "metadata": {},
     "output_type": "execute_result"
    }
   ],
   "source": [
    "# Print all the mouse event in openCV\n",
    "\n",
    "lis = [i for i in dir(cv2) if 'EVENT' in i]\n",
    "\n",
    "lis"
   ]
  },
  {
   "cell_type": "markdown",
   "id": "02d289e7",
   "metadata": {},
   "source": [
    "### Algorithm : \n",
    "\n",
    "Import the cv2 module.\n",
    "\n",
    "Import the image using the cv2.imread() function.\n",
    "\n",
    "Display the image the image using the cv2.imshow() function.\n",
    "\n",
    "Call the cv2.setMouseCallback() function and pass the image window and the user-defined function as parameters.\n",
    "\n",
    "In the user-defined function, check for left mouse clicks using the cv2.EVENT_LBUTTONDOWN attribute.\n",
    "\n",
    "Display the coordinates on the Shell.\n",
    "\n",
    "Display the coordinates on the created window.\n",
    "\n",
    "Do the same for right mouse clicks using the cv2.EVENT_RBUTTONDOWN attribute. Change the color while displaying the coordinates on the image to distinguish from left clicks.\n",
    "\n",
    "Outside the user-defined function, use the cv2.waitKey(0) and the cv2.destroyAllWindows() functions to close the window and terminate the program."
   ]
  },
  {
   "cell_type": "code",
   "execution_count": 7,
   "id": "b971a86c",
   "metadata": {},
   "outputs": [],
   "source": [
    "# Function to display the coordinates of the points clicked on the image\n",
    "\n",
    "def click_event(event, x, y, flags, params):\n",
    "    # Checking for left mouse clicks\n",
    "    if event == cv2.EVENT_LBUTTONDOWN:\n",
    "        # Displaying the coordinates on the shell\n",
    "        print(\"Left mouse clicks\")\n",
    "        print(f\"({x} , {y})\")\n",
    "        \n",
    "        # Displaying the coordinates on the image window\n",
    "        cv2.putText(img=img,text=str(x) + ',' + str(y), org=(x, y), fontFace=cv2.FONT_HERSHEY_COMPLEX_SMALL, \n",
    "                    fontScale=1, color=(255,0,255), thickness=2)\n",
    "        \n",
    "        cv2.imshow(winname=\"image\", mat=img)\n",
    "    \n",
    "    # checking for right mouse clicks    \n",
    "    if event==cv2.EVENT_RBUTTONDOWN:\n",
    " \n",
    "        # displaying the coordinates on the Shell\n",
    "        print(\"Right mouse clicks\")\n",
    "        print(f\"({x} , {y})\")\n",
    " \n",
    "        # displaying the color value on this particular points\n",
    "        blue = img[y, x, 0]\n",
    "        green = img[y, x, 1]\n",
    "        red = img[y, x, 2]\n",
    "        \n",
    "        cv2.putText(img=img,text=str(blue) + ',' + str(green) + ',' + str(red), org=(x, y), \n",
    "                    fontFace=cv2.FONT_HERSHEY_COMPLEX_SMALL, \n",
    "                    fontScale=1, color=(255,0,255), thickness=2)\n",
    "        \n",
    "        cv2.imshow(winname='image', mat=img)\n",
    "\n",
    "if __name__ == \"__main__\":\n",
    "    img = cv2.imread(filename=\"Images/girl.png\")\n",
    "\n",
    "    cv2.imshow(winname=\"image\", mat=img)\n",
    "\n",
    "    # Setting mouse handler for the image and calling the click_event() function\n",
    "\n",
    "    # Syntax: Docstring: setMouseCallback(windowName, onMouse [, param]) -> None\n",
    "\n",
    "    cv2.setMouseCallback(\"image\", click_event)\n",
    "\n",
    "    cv2.waitKey()\n",
    "    cv2.destroyAllWindows()"
   ]
  },
  {
   "cell_type": "code",
   "execution_count": null,
   "id": "f6306f4f",
   "metadata": {},
   "outputs": [],
   "source": []
  }
 ],
 "metadata": {
  "kernelspec": {
   "display_name": "Python 3 (ipykernel)",
   "language": "python",
   "name": "python3"
  },
  "language_info": {
   "codemirror_mode": {
    "name": "ipython",
    "version": 3
   },
   "file_extension": ".py",
   "mimetype": "text/x-python",
   "name": "python",
   "nbconvert_exporter": "python",
   "pygments_lexer": "ipython3",
   "version": "3.10.2"
  }
 },
 "nbformat": 4,
 "nbformat_minor": 5
}
