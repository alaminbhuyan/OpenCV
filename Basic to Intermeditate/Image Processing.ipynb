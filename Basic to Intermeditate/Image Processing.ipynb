{
 "cells": [
  {
   "cell_type": "code",
   "execution_count": 1,
   "id": "0147b2b8",
   "metadata": {},
   "outputs": [],
   "source": [
    "import cv2\n",
    "import numpy as np"
   ]
  },
  {
   "cell_type": "markdown",
   "id": "7e1b253c",
   "metadata": {},
   "source": [
    "### Image Resizing"
   ]
  },
  {
   "cell_type": "raw",
   "id": "f0a6f1e0",
   "metadata": {},
   "source": [
    "1) cv2.INTER_AREA: This is used when we need to shrink an image.\n",
    "2) cv2.INTER_CUBIC: This is slow but more efficient.\n",
    "3) cv2.INTER_LINEAR: This is primarily used when zooming is required. This is the default interpolation technique in OpenCV."
   ]
  },
  {
   "cell_type": "code",
   "execution_count": null,
   "id": "755bcee5",
   "metadata": {},
   "outputs": [],
   "source": []
  }
 ],
 "metadata": {
  "kernelspec": {
   "display_name": "Python 3 (ipykernel)",
   "language": "python",
   "name": "python3"
  },
  "language_info": {
   "codemirror_mode": {
    "name": "ipython",
    "version": 3
   },
   "file_extension": ".py",
   "mimetype": "text/x-python",
   "name": "python",
   "nbconvert_exporter": "python",
   "pygments_lexer": "ipython3",
   "version": "3.9.7"
  }
 },
 "nbformat": 4,
 "nbformat_minor": 5
}
