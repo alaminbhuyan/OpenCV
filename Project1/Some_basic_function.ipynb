{
 "cells": [
  {
   "cell_type": "markdown",
   "metadata": {
    "collapsed": true,
    "pycharm": {
     "name": "#%% md\n"
    }
   },
   "source": [
    "#### image read"
   ]
  },
  {
   "cell_type": "code",
   "execution_count": 1,
   "metadata": {
    "pycharm": {
     "name": "#%%\n"
    }
   },
   "outputs": [],
   "source": [
    "import cv2\n",
    "import numpy as np"
   ]
  },
  {
   "cell_type": "code",
   "execution_count": 2,
   "metadata": {
    "pycharm": {
     "name": "#%%\n"
    }
   },
   "outputs": [],
   "source": [
    "img = cv2.imread(\"image_examples/lena.png\")\n",
    "cv2.imshow(winname=\"Lena Image\",mat=img)\n",
    "cv2.waitKey(delay=0)\n",
    "cv2.destroyAllWindows()"
   ]
  },
  {
   "cell_type": "markdown",
   "metadata": {
    "pycharm": {
     "name": "#%% md\n"
    }
   },
   "source": [
    "#### read video"
   ]
  },
  {
   "cell_type": "code",
   "execution_count": 3,
   "metadata": {
    "pycharm": {
     "name": "#%%\n"
    }
   },
   "outputs": [],
   "source": [
    "# framWidth = 640\n",
    "# framHeight = 480\n",
    "# cap = cv2.VideoCapture(\"image_examples/cars.avi\")\n",
    "# while cap.isOpened():\n",
    "#     success,frame = cap.read()\n",
    "#     frame_size = cv2.resize(src=frame,dsize=(framWidth,framHeight))\n",
    "#     cv2.imshow(winname=\"Test Video\",mat=frame_size)\n",
    "#     if cv2.waitKey(1)==13:\n",
    "#         break\n",
    "# cv2.destroyAllWindows()"
   ]
  },
  {
   "cell_type": "markdown",
   "metadata": {
    "pycharm": {
     "is_executing": true,
     "name": "#%%\n"
    }
   },
   "source": [
    "#### read webcam"
   ]
  },
  {
   "cell_type": "code",
   "execution_count": 4,
   "metadata": {},
   "outputs": [],
   "source": [
    "# frameWidth = 640\n",
    "# frameHeight = 480\n",
    "\n",
    "# cap = cv2.VideoCapture(0)\n",
    "# cap.set(3,frameWidth)\n",
    "# cap.set(4,frameHeight)\n",
    "# cap.set(10,150)\n",
    "\n",
    "# while True:\n",
    "#     success,frame = cap.read()\n",
    "#     cv2.imshow(\"Result\",frame)\n",
    "#     if cv2.waitKey(1) and 0xFF == ord('q'):\n",
    "#         break\n",
    "\n",
    "# cv2.destroyAllWindows()"
   ]
  },
  {
   "cell_type": "markdown",
   "metadata": {},
   "source": [
    "#### Some basic function"
   ]
  },
  {
   "cell_type": "code",
   "execution_count": 5,
   "metadata": {},
   "outputs": [],
   "source": [
    "img = cv2.imread(filename=\"image_examples/lena.png\")\n",
    "kernel = np.ones((5,5),np.uint8)\n",
    "# print(kernel)\n",
    "\n",
    "# convert into gray\n",
    "imgGray = cv2.cvtColor(src=img,code=cv2.COLOR_BGR2GRAY)\n",
    "# convert into blur\n",
    "imgBlur = cv2.GaussianBlur(src=imgGray,ksize=(9,9),sigmaX=0) # ksize = kernel size\n",
    "# imgBlur = cv2.GaussianBlur(img,(9,9),0)\n",
    "# convert into canny\n",
    "imgCanny = cv2.Canny(image=img,threshold1=150,threshold2=200)\n",
    "# convert into dialation\n",
    "imgDialation = cv2.dilate(imgCanny,kernel,iterations=1) # iterations remove the thikness from image\n",
    "# convert into eroded\n",
    "imgEroded = cv2.erode(imgDialation,kernel,iterations=1)\n",
    "\n",
    "\n",
    "# display img\n",
    "cv2.imshow(\"Original Image\",img)\n",
    "cv2.imshow(\"Gray Image\",imgGray)\n",
    "cv2.imshow(\"Blur Image\",imgBlur)\n",
    "cv2.imshow(\"Canny Image\",imgCanny)\n",
    "cv2.imshow(\"Dialation Image\",imgDialation)\n",
    "cv2.imshow(\"Eroded Image\",imgEroded)\n",
    "cv2.waitKey(0)\n",
    "cv2.destroyAllWindows()"
   ]
  },
  {
   "cell_type": "markdown",
   "metadata": {},
   "source": [
    "#### image resize"
   ]
  },
  {
   "cell_type": "code",
   "execution_count": 6,
   "metadata": {
    "pycharm": {
     "is_executing": true
    }
   },
   "outputs": [
    {
     "name": "stdout",
     "output_type": "stream",
     "text": [
      "(462, 623, 3)\n",
      "(200, 300, 3)\n"
     ]
    }
   ],
   "source": [
    "img = cv2.imread(\"image_examples/lambo.png\")\n",
    "print(img.shape)\n",
    "\n",
    "# Resizing the image\n",
    "imgResize = cv2.resize(src=img,dsize=(300,200)) # width 300 height 200\n",
    "print(imgResize.shape)\n",
    "cv2.imshow(\"Resize image\",imgResize)\n",
    "cv2.waitKey(0)\n",
    "cv2.destroyAllWindows()"
   ]
  },
  {
   "cell_type": "markdown",
   "metadata": {
    "pycharm": {
     "name": "#%% md\n"
    }
   },
   "source": [
    "#### Cropped Image\n"
   ]
  },
  {
   "cell_type": "code",
   "execution_count": 7,
   "metadata": {
    "pycharm": {
     "name": "#%%\n"
    }
   },
   "outputs": [],
   "source": [
    "# Cropped img\n",
    "# 0:200 height\n",
    "#200:500 width\n",
    "imgCropped = img[0:200,200:500]\n",
    "\n",
    "cv2.imshow(\"Orginal image\",img)\n",
    "#cv2.imshow(\"Resize image\",imgResize)\n",
    "cv2.imshow(\"Cropped image\",imgCropped)\n",
    "cv2.waitKey(0) # 10000 millisecond == 10 second\n",
    "cv2.destroyAllWindows()\n"
   ]
  },
  {
   "cell_type": "code",
   "execution_count": 8,
   "metadata": {},
   "outputs": [],
   "source": [
    "img = np.zeros((512,512,3),np.uint8)\n",
    "#print(img)\n",
    "#img[:]= 255,0,0\n",
    " \n",
    "cv2.line(img,(0,0),(img.shape[1],img.shape[0]),(0,255,0),3)\n",
    "cv2.rectangle(img,(0,0),(250,350),(0,0,255),2)\n",
    "cv2.circle(img,(400,50),30,(255,255,0),5)\n",
    "cv2.putText(img,\" OPENCV  \",(300,200),cv2.FONT_HERSHEY_COMPLEX,1,(0,150,0),3)\n",
    " \n",
    "cv2.imshow(\"Image\",img)\n",
    "cv2.waitKey(0)\n",
    "cv2.destroyAllWindows()"
   ]
  },
  {
   "cell_type": "markdown",
   "metadata": {
    "pycharm": {
     "name": "#%% md\n"
    }
   },
   "source": [
    "#### Warp Perspective\n"
   ]
  },
  {
   "cell_type": "code",
   "execution_count": 9,
   "metadata": {
    "pycharm": {
     "name": "#%%\n"
    }
   },
   "outputs": [],
   "source": [
    "img = cv2.imread(\"image_examples/cards.jpg\")\n",
    "\n",
    "width,height = 250,350\n",
    "pts1 = np.float32([[111,219],[287,188],[154,482],[352,440]])\n",
    "pts2 = np.float32([[0,0],[width,0],[0,height],[width,height]])\n",
    "matrix = cv2.getPerspectiveTransform(pts1,pts2)\n",
    "imgOutput = cv2.warpPerspective(src=img,M=matrix,dsize=(width,height))\n",
    "\n",
    "cv2.imshow(\"Cards Image\",img)\n",
    "cv2.imshow(\"Output Image\",imgOutput)\n",
    "cv2.waitKey(0)\n",
    "cv2.destroyAllWindows()\n"
   ]
  },
  {
   "cell_type": "markdown",
   "metadata": {
    "pycharm": {
     "name": "#%% md\n"
    }
   },
   "source": [
    "#### Joining Image\n"
   ]
  },
  {
   "cell_type": "code",
   "execution_count": 10,
   "metadata": {
    "pycharm": {
     "name": "#%%\n"
    }
   },
   "outputs": [],
   "source": [
    "img = cv2.imread(filename=\"image_examples/lena.png\")\n",
    "img_resize = cv2.resize(src=img,dsize=(300,300))\n",
    "imgHorizontal = np.hstack((img_resize,img_resize))\n",
    "imgVertical = np.vstack((img_resize,img_resize))\n",
    "cv2.imshow(\"Orginal Image\",img)\n",
    "cv2.imshow(\"imgHorizontal Image\",imgHorizontal)\n",
    "cv2.imshow(\"imgVertical Image\",imgVertical)\n",
    "cv2.waitKey(0)\n",
    "cv2.destroyAllWindows()"
   ]
  },
  {
   "cell_type": "code",
   "execution_count": null,
   "metadata": {},
   "outputs": [],
   "source": []
  }
 ],
 "metadata": {
  "kernelspec": {
   "display_name": "Python 3",
   "language": "python",
   "name": "python3"
  },
  "language_info": {
   "codemirror_mode": {
    "name": "ipython",
    "version": 3
   },
   "file_extension": ".py",
   "mimetype": "text/x-python",
   "name": "python",
   "nbconvert_exporter": "python",
   "pygments_lexer": "ipython3",
   "version": "3.9.5"
  }
 },
 "nbformat": 4,
 "nbformat_minor": 1
}
