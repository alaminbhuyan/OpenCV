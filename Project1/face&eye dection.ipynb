{
 "cells": [
  {
   "cell_type": "markdown",
   "metadata": {
    "pycharm": {
     "name": "#%% md\n"
    }
   },
   "source": [
    "#### Face & Eye Detection using HAAR Cascade Classifiers"
   ]
  },
  {
   "cell_type": "code",
   "execution_count": 1,
   "metadata": {},
   "outputs": [],
   "source": [
    "import numpy as np\n",
    "import cv2"
   ]
  },
  {
   "cell_type": "code",
   "execution_count": 2,
   "metadata": {
    "pycharm": {
     "name": "#%%\n"
    }
   },
   "outputs": [
    {
     "name": "stderr",
     "output_type": "stream",
     "text": [
      "<ipython-input-2-01435bcee369>:6: DeprecationWarning: elementwise comparison failed; this will raise an error in the future.\n",
      "  if faces == ():\n"
     ]
    }
   ],
   "source": [
    "face_classifier = cv2.CascadeClassifier(\"Haarcascades/haarcascade_frontalface_default.xml\")\n",
    "image = cv2.imread(\"image_examples/Trump.jpg\")\n",
    "# convert into gray image\n",
    "gray = cv2.cvtColor(src=image,code=cv2.COLOR_BGR2GRAY)\n",
    "faces = face_classifier.detectMultiScale(image=gray,scaleFactor=1.3,minNeighbors=5)\n",
    "if faces == ():\n",
    "    print(\"No faces found\")\n",
    "\n",
    "# we iterate through our faces array and draw a rectangle\n",
    "# over each face in faces\n",
    "for (x,y,width,height) in faces:\n",
    "    cv2.rectangle(img=image,pt1=(x,y),pt2=(x+width,y+height),color=(127,0,255),thickness=2)\n",
    "    cv2.imshow(\"Face Detection\",image)\n",
    "    cv2.waitKey()\n",
    "cv2.destroyAllWindows()"
   ]
  },
  {
   "cell_type": "markdown",
   "metadata": {
    "pycharm": {
     "name": "#%% md\n"
    }
   },
   "source": [
    "Let's combine face and eye detection\n"
   ]
  },
  {
   "cell_type": "code",
   "execution_count": 3,
   "metadata": {
    "pycharm": {
     "name": "#%%\n"
    }
   },
   "outputs": [
    {
     "name": "stderr",
     "output_type": "stream",
     "text": [
      "<ipython-input-3-dd38fe52947d>:7: DeprecationWarning: elementwise comparison failed; this will raise an error in the future.\n",
      "  if faces2 == ():\n"
     ]
    }
   ],
   "source": [
    "face_classifier = cv2.CascadeClassifier(\"Haarcascades/haarcascade_frontalface_default.xml\")\n",
    "eye_classifier = cv2.CascadeClassifier(\"Haarcascades/haarcascade_eye.xml\")\n",
    "img = cv2.imread(filename=\"image_examples/Trump.jpg\")\n",
    "gray2 = cv2.cvtColor(src=img,code=cv2.COLOR_BGR2GRAY)\n",
    "faces2 = face_classifier.detectMultiScale(image=gray2,scaleFactor=1.3,minNeighbors=5)\n",
    "\n",
    "if faces2 == ():\n",
    "    print(\"No faces found\")\n",
    "\n",
    "for (x,y,width,height) in faces2:\n",
    "    cv2.rectangle(img=image,pt1=(x,y),pt2=(x+width,y+height),color=(127,0,255),thickness=2)\n",
    "    cv2.imshow(\"img\",img)\n",
    "    roi_gray = gray2[y:y+height,x:x+width]\n",
    "    roi_color = img[y:y+height,x:x+width]\n",
    "    eyes = eye_classifier.detectMultiScale(roi_gray)\n",
    "\n",
    "    for (ex,ey,ew,eh) in eyes:\n",
    "        cv2.rectangle(img=roi_color,pt1=(ex,ey),pt2=(ex+ew,ey+eh),color=(0,0,255),thickness=2)\n",
    "        cv2.imshow(\"img\",img)\n",
    "        cv2.waitKey()\n",
    "cv2.destroyAllWindows()"
   ]
  },
  {
   "cell_type": "markdown",
   "metadata": {
    "pycharm": {
     "name": "#%% md\n"
    }
   },
   "source": [
    "Pedistrian Detection\n"
   ]
  },
  {
   "cell_type": "code",
   "execution_count": 4,
   "metadata": {
    "pycharm": {
     "name": "#%%\n"
    }
   },
   "outputs": [],
   "source": [
    "# Create out body classifier\n",
    "body_classifier = cv2.CascadeClassifier(\"Haarcascades/haarcascade_fullbody.xml\")\n",
    "# Initiate video capture for video file\n",
    "cap = cv2.VideoCapture(\"image_examples/walking.avi\")\n",
    "# loop once video is successfully loaded\n",
    "while cap.isOpened():\n",
    "    # read first frame\n",
    "    ret,frame = cap.read()\n",
    "    gray3 = cv2.cvtColor(src=frame,code=cv2.COLOR_BGR2GRAY)\n",
    "    # pass frame to our body classifier\n",
    "    bodies = body_classifier.detectMultiScale(image=gray3,scaleFactor=1.3,minNeighbors=2)\n",
    "    # Extract bounding boxes for any bodies indentified\n",
    "    for (x,y,w,h) in bodies:\n",
    "        cv2.rectangle(img=frame,pt1=(x,y),pt2=(x+w,y+h),color=(0,255,255),thickness=2)\n",
    "        cv2.imshow(\"Pedestraians\",frame)\n",
    "    if cv2.waitKey(1)== 13: # 13 is the enter key\n",
    "        break\n",
    "cap.release()\n",
    "cv2.destroyAllWindows()"
   ]
  },
  {
   "cell_type": "markdown",
   "metadata": {
    "pycharm": {
     "name": "#%% md\n"
    }
   },
   "source": [
    "Car Detection\n"
   ]
  },
  {
   "cell_type": "code",
   "execution_count": 6,
   "metadata": {
    "pycharm": {
     "name": "#%%\n"
    }
   },
   "outputs": [],
   "source": [
    "import time\n",
    "\n",
    "# Create our body classifier\n",
    "car_classifier = cv2.CascadeClassifier('Haarcascades\\haarcascade_car.xml')\n",
    "# Initiate video capture for video file\n",
    "cap = cv2.VideoCapture('image_examples/cars.avi')\n",
    "\n",
    "# Loop once video is successfully loaded\n",
    "while cap.isOpened():\n",
    "\n",
    "    time.sleep(.05)\n",
    "    # Read first frame\n",
    "    ret, frame = cap.read()\n",
    "    gray = cv2.cvtColor(frame, cv2.COLOR_BGR2GRAY)\n",
    "    # Pass frame to our car classifier\n",
    "    cars = car_classifier.detectMultiScale(gray, 1.4, 2)\n",
    "    # Extract bounding boxes for any bodies identified\n",
    "    for (x,y,w,h) in cars:\n",
    "        cv2.rectangle(frame, (x, y), (x+w, y+h), (0, 255, 255), 2)\n",
    "        cv2.imshow('Cars', frame)\n",
    "\n",
    "    if cv2.waitKey(1) == 13: #13 is the Enter Key\n",
    "        break\n",
    "\n",
    "cap.release()\n",
    "cv2.destroyAllWindows()"
   ]
  }
 ],
 "metadata": {
  "kernelspec": {
   "display_name": "Python 3",
   "language": "python",
   "name": "python3"
  },
  "language_info": {
   "codemirror_mode": {
    "name": "ipython",
    "version": 3
   },
   "file_extension": ".py",
   "mimetype": "text/x-python",
   "name": "python",
   "nbconvert_exporter": "python",
   "pygments_lexer": "ipython3",
   "version": "3.8.5"
  }
 },
 "nbformat": 4,
 "nbformat_minor": 1
}
